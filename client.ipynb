{
 "cells": [
  {
   "cell_type": "markdown",
   "metadata": {},
   "source": [
    "# Import Socket, CV2, Pickle, and Struct"
   ]
  },
  {
   "cell_type": "code",
   "execution_count": 6,
   "metadata": {},
   "outputs": [],
   "source": [
    "import socket\n",
    "import cv2\n",
    "import pickle\n",
    "import struct"
   ]
  },
  {
   "cell_type": "markdown",
   "metadata": {},
   "source": [
    "# Create Socket"
   ]
  },
  {
   "cell_type": "code",
   "execution_count": 7,
   "metadata": {},
   "outputs": [
    {
     "name": "stdout",
     "output_type": "stream",
     "text": [
      "Socket Created\n"
     ]
    }
   ],
   "source": [
    "client_socket = socket.socket(socket.AF_INET,socket.SOCK_STREAM)\n",
    "host_ip = '192.168.29.61'\n",
    "port = 1234\n",
    "print(\"Socket Created\")"
   ]
  },
  {
   "cell_type": "markdown",
   "metadata": {},
   "source": [
    "# Connecting to the Server"
   ]
  },
  {
   "cell_type": "code",
   "execution_count": 8,
   "metadata": {},
   "outputs": [
    {
     "name": "stdout",
     "output_type": "stream",
     "text": [
      "8\n",
      "Socket Accepted\n"
     ]
    }
   ],
   "source": [
    "#Client Socket will use connect() to connect with Server Socket after the socket is created.\n",
    "client_socket.connect((host_ip,port))\n",
    "\n",
    "#Empty string defined size - 1 byte\n",
    "data = b\"\" \n",
    "\n",
    "payload_size = struct.calcsize(\"Q\")\n",
    "print(payload_size)\n",
    "print(\"Socket Accepted\")"
   ]
  },
  {
   "cell_type": "code",
   "execution_count": null,
   "metadata": {},
   "outputs": [],
   "source": [
    "while True:\n",
    "    while len(data) < payload_size: #1 byte < 8 bytes\n",
    "        packet = client_socket.recv(2160)\n",
    "        if not packet: break\n",
    "        data += packet #Appending serial data that come from server (stored in loc var message on in Server.ipynb)\n",
    "    dynamicSerializedMsg = data[:payload_size] #Data of first 8 bytes.\n",
    "    data = data[payload_size:]\n",
    "\n",
    "    # Unpacks only 8 bytes of data dynamically stored in packed message.\n",
    "    # [0] refers to element at first index\n",
    "    msg_size = struct.unpack(\"Q\",dynamicSerializedMsg)[0] \n",
    "    \n",
    "    # len(data) - (One of them: 2152 (max); Defined by strlen passed as an arguement in .recv function)\n",
    "    # msg_size (One of them:  9044780001777646981; Type - int)\n",
    "    while len(data) < msg_size:\n",
    "        data += client_socket.recv(2160)\n",
    "    frame_data = data[:msg_size]\n",
    "    data  = data[msg_size:]\n",
    "    frame = pickle.loads(frame_data) #Object Deserialization\n",
    "    cv2.imshow(\"Client\",frame)\n",
    "    key = cv2.waitKey(1) & 0xFF\n",
    "\n",
    "    #ord () function accepts a string of unit length as an argument and returns the Unicode equivalence of the passed argument.\n",
    "    if key  == ord('q'): # 113\n",
    "        break\n",
    "client_socket.close()"
   ]
  },
  {
   "cell_type": "code",
   "execution_count": null,
   "metadata": {},
   "outputs": [],
   "source": []
  }
 ],
 "metadata": {
  "kernelspec": {
   "display_name": "Python 3",
   "language": "python",
   "name": "python3"
  },
  "language_info": {
   "codemirror_mode": {
    "name": "ipython",
    "version": 3
   },
   "file_extension": ".py",
   "mimetype": "text/x-python",
   "name": "python",
   "nbconvert_exporter": "python",
   "pygments_lexer": "ipython3",
   "version": "3.8.3"
  }
 },
 "nbformat": 4,
 "nbformat_minor": 4
}
